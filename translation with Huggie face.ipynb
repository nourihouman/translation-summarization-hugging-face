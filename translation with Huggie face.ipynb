{
 "cells": [
  {
   "cell_type": "code",
   "execution_count": 1,
   "id": "caa06e2f",
   "metadata": {},
   "outputs": [
    {
     "name": "stdout",
     "output_type": "stream",
     "text": [
      "Modules imported and logging set to error level.\n"
     ]
    }
   ],
   "source": [
    "from transformers.utils import logging\n",
    "from transformers import pipeline\n",
    "import torch\n",
    "\n",
    "# Set logging to show only errors\n",
    "logging.set_verbosity_error()\n",
    "\n",
    "print(\"Modules imported and logging set to error level.\")\n"
   ]
  },
  {
   "cell_type": "code",
   "execution_count": 2,
   "id": "081a4501",
   "metadata": {},
   "outputs": [
    {
     "name": "stderr",
     "output_type": "stream",
     "text": [
      "C:\\Users\\Admin\\AppData\\Local\\Programs\\Python\\Python311\\Lib\\site-packages\\huggingface_hub\\file_download.py:1132: FutureWarning: `resume_download` is deprecated and will be removed in version 1.0.0. Downloads always resume when possible. If you want to force a new download, use `force_download=True`.\n",
      "  warnings.warn(\n"
     ]
    },
    {
     "data": {
      "application/vnd.jupyter.widget-view+json": {
       "model_id": "5e1329ebb94b495fa26d86ecea57c4ed",
       "version_major": 2,
       "version_minor": 0
      },
      "text/plain": [
       "pytorch_model.bin:  49%|####8     | 1.20G/2.46G [00:00<?, ?B/s]"
      ]
     },
     "metadata": {},
     "output_type": "display_data"
    },
    {
     "name": "stderr",
     "output_type": "stream",
     "text": [
      "C:\\Users\\Admin\\AppData\\Local\\Programs\\Python\\Python311\\Lib\\site-packages\\huggingface_hub\\file_download.py:157: UserWarning: `huggingface_hub` cache-system uses symlinks by default to efficiently store duplicated files but your machine does not support them in C:\\Users\\Admin\\.cache\\huggingface\\hub\\models--facebook--nllb-200-distilled-600M. Caching files will still work but in a degraded version that might require more space on your disk. This warning can be disabled by setting the `HF_HUB_DISABLE_SYMLINKS_WARNING` environment variable. For more details, see https://huggingface.co/docs/huggingface_hub/how-to-cache#limitations.\n",
      "To support symlinks on Windows, you either need to activate Developer Mode or to run Python as an administrator. In order to see activate developer mode, see this article: https://docs.microsoft.com/en-us/windows/apps/get-started/enable-your-device-for-development\n",
      "  warnings.warn(message)\n"
     ]
    },
    {
     "data": {
      "application/vnd.jupyter.widget-view+json": {
       "model_id": "5c5baef06d704ce0bdf3df9d64c954f6",
       "version_major": 2,
       "version_minor": 0
      },
      "text/plain": [
       "generation_config.json:   0%|          | 0.00/189 [00:00<?, ?B/s]"
      ]
     },
     "metadata": {},
     "output_type": "display_data"
    },
    {
     "name": "stdout",
     "output_type": "stream",
     "text": [
      "Model and tokenizer downloaded.\n"
     ]
    }
   ],
   "source": [
    "from transformers import AutoModelForSeq2SeqLM, AutoTokenizer\n",
    "\n",
    "model_id = \"facebook/nllb-200-distilled-600M\"\n",
    "\n",
    "# Download and cache the model and tokenizer\n",
    "tokenizer = AutoTokenizer.from_pretrained(model_id)\n",
    "model = AutoModelForSeq2SeqLM.from_pretrained(model_id)\n",
    "\n",
    "print(\"Model and tokenizer downloaded.\")\n"
   ]
  },
  {
   "cell_type": "code",
   "execution_count": 11,
   "id": "c85e80ef",
   "metadata": {},
   "outputs": [
    {
     "name": "stdout",
     "output_type": "stream",
     "text": [
      "Translated Text: \" HuggingFace\" ابزاری را ایجاد می کند که هوش مصنوعی را برای همه دموکراتیک کند.\n"
     ]
    }
   ],
   "source": [
    "from transformers import pipeline\n",
    "\n",
    "# Define the translation pipeline\n",
    "translator = pipeline(\"translation\", model=model, tokenizer=tokenizer)\n",
    "\n",
    "# Function to translate text\n",
    "def translate_text(text, source_lang, target_lang):\n",
    "    # Prepare the input text with language codes\n",
    "    inputs = f\">>{target_lang}<< {text}\"\n",
    "    translated = translator(inputs, src_lang=source_lang, tgt_lang=target_lang)\n",
    "    return translated[0]['translation_text']\n",
    "     \n",
    "\n",
    "\n",
    "source_lang = \"eng_Latn\"  # English\n",
    "target_lang = \"pes_Arab\"  # Persian\n",
    "text = \"HuggingFace is creating a tool that democratizes AI for everyone.\"\n",
    "\n",
    "translated_text = translate_text(text, source_lang, target_lang)\n",
    "print(\"Translated Text:\", translated_text)\n"
   ]
  },
  {
   "cell_type": "code",
   "execution_count": 13,
   "id": "79fa54b2",
   "metadata": {},
   "outputs": [],
   "source": [
    "from transformers import BartForConditionalGeneration, BartTokenizer\n",
    "\n",
    "# Define the summarization model ID\n",
    "summarization_model_id = \"facebook/bart-large-cnn\"\n",
    "\n",
    "# Load the tokenizer and model for summarization\n",
    "summarization_tokenizer = BartTokenizer.from_pretrained(summarization_model_id)\n",
    "summarization_model = BartForConditionalGeneration.from_pretrained(summarization_model_id)"
   ]
  },
  {
   "cell_type": "code",
   "execution_count": 15,
   "id": "82fe3ec6",
   "metadata": {},
   "outputs": [
    {
     "name": "stdout",
     "output_type": "stream",
     "text": [
      "Summarized Text: Hugging Face is an open-source library that works with state-of-the-art models in natural language processing. It includes transformers for tasks like text classification, translation and summarization.\n"
     ]
    }
   ],
   "source": [
    "# Define the summarization pipeline\n",
    "summarizer = pipeline(\"summarization\", model=summarization_model, tokenizer=summarization_tokenizer)\n",
    "\n",
    "# Function to summarize text\n",
    "def summarize_text(text):\n",
    "    summarized = summarizer(text, max_length=50, min_length=20, do_sample=False)\n",
    "    # Since the summarizer returns a list, we extract the first item\n",
    "    return summarized[0]['summary_text']\n",
    "\n",
    "# Example usage\n",
    "text_to_summarize = \"Hugging Face is creating a tool that democratizes AI for everyone. The open-source library provides simple APIs to work with state-of-the-art models in natural language processing. It includes transformers for tasks like text classification, translation, and summarization.\"\n",
    "\n",
    "summarized_text = summarize_text(text_to_summarize)\n",
    "print(\"Summarized Text:\", summarized_text)\n"
   ]
  },
  {
   "cell_type": "code",
   "execution_count": null,
   "id": "38caf7b4",
   "metadata": {},
   "outputs": [],
   "source": []
  }
 ],
 "metadata": {
  "kernelspec": {
   "display_name": "Python 3 (ipykernel)",
   "language": "python",
   "name": "python3"
  },
  "language_info": {
   "codemirror_mode": {
    "name": "ipython",
    "version": 3
   },
   "file_extension": ".py",
   "mimetype": "text/x-python",
   "name": "python",
   "nbconvert_exporter": "python",
   "pygments_lexer": "ipython3",
   "version": "3.11.0"
  }
 },
 "nbformat": 4,
 "nbformat_minor": 5
}
